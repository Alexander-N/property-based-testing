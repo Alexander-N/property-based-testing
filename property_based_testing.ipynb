{
 "cells": [
  {
   "cell_type": "code",
   "execution_count": null,
   "metadata": {
    "collapsed": false
   },
   "outputs": [],
   "source": [
    "from hypothesis import given, settings, example, assume\n",
    "import hypothesis.strategies as stra\n",
    "from collections import Counter\n",
    "import unittest\n",
    "from hypothesis.extra.datetime import datetimes\n",
    "from hypothesis.extra.fakefactory import fake_factory\n",
    "from string import ascii_lowercase\n",
    "from pprint import pprint\n",
    "\n",
    "settings.database = None\n",
    "\n",
    "def run_all(TestClass):\n",
    "    \"\"\"Runs all test methods of the class\"\"\"\n",
    "    suite = unittest.TestSuite()\n",
    "    suite = unittest.TestLoader().loadTestsFromTestCase(TestClass)\n",
    "    runner = unittest.TextTestRunner()\n",
    "    runner.run(suite)"
   ]
  },
  {
   "cell_type": "markdown",
   "metadata": {},
   "source": [
    "## \"Example based testing\""
   ]
  },
  {
   "cell_type": "code",
   "execution_count": null,
   "metadata": {
    "collapsed": true
   },
   "outputs": [],
   "source": [
    "def add_one_to_elements(numbers):\n",
    "    return [number + 1 for number in numbers]\n",
    "\n",
    "def test_add_one_to_elements():\n",
    "    assert add_one_to_elements([1, 0, 2]) == [2, 1, 3]\n",
    "    \n",
    "    \n",
    "    assert add_one_to_elements([]) == []\n",
    "    assert add_one_to_elements([-1]) == [0]\n",
    "    assert add_one_to_elements([0.5]) == [1.5]\n",
    "    \n",
    "    \n",
    "test_add_one_to_elements()"
   ]
  },
  {
   "cell_type": "markdown",
   "metadata": {},
   "source": [
    "* What should I test? When am I finished? Thinking of examples looks like a task stupid enough for a computer.\n",
    "* Unexpected data: Passing tests don't ensure correct behaviour\n",
    "* If you would now cases where your program fails, you would have written it differently :-)\n",
    "* Bugs which occur only when several features are used together\n",
    " * $N$ features: $N$ tests $\\rightarrow$ $N$ features: $N^N$ tests"
   ]
  },
  {
   "cell_type": "markdown",
   "metadata": {},
   "source": [
    "## Random generation of examples"
   ]
  },
  {
   "cell_type": "code",
   "execution_count": null,
   "metadata": {
    "collapsed": false
   },
   "outputs": [],
   "source": [
    "from hypothesis import given, settings, example\n",
    "import hypothesis.strategies as stra\n",
    "settings.database = None\n",
    "\n",
    "list_of_floats = stra.lists(stra.floats(allow_nan=False))\n",
    "\n",
    "@given(list_of_floats)\n",
    "@settings(max_examples=5)\n",
    "def test_add_one_to_elements(numbers):\n",
    "    print(numbers, end='\\n\\n')\n",
    "    assert add_one_to_elements(numbers) == list(map(lambda x: x+1, numbers))\n",
    "\n",
    "\n",
    "test_add_one_to_elements()"
   ]
  },
  {
   "cell_type": "markdown",
   "metadata": {},
   "source": [
    "* You don't have to waste time to construct mock data.\n",
    "* Adapt strategies by chaining, mapping, filtering"
   ]
  },
  {
   "cell_type": "code",
   "execution_count": null,
   "metadata": {
    "collapsed": false
   },
   "outputs": [],
   "source": [
    "from hypothesis.extra.datetime import datetimes\n",
    "from hypothesis.extra.fakefactory import fake_factory\n",
    "from pprint import pprint\n",
    "\n",
    "email_and_timestamp = stra.fixed_dictionaries(\n",
    "    {\n",
    "        'timestamp': datetimes(min_year=1900, max_year=2016).map(str),\n",
    "        'name': fake_factory('name'),      \n",
    "    }\n",
    ")\n",
    "\n",
    "custom_dict_strategy = stra.dictionaries(\n",
    "    fake_factory('email'),\n",
    "    email_and_timestamp,\n",
    "    min_size=5\n",
    ")\n",
    "\n",
    "pprint(custom_dict_strategy.example())"
   ]
  },
  {
   "cell_type": "markdown",
   "metadata": {},
   "source": [
    "Much more:\n",
    "* Django models, Numpy arrays http://hypothesis.readthedocs.org/en/latest/extras.html\n",
    "* Recursive strategies (e.g. JSON) http://hypothesis.readthedocs.org/en/latest/data.html#recursive-data"
   ]
  },
  {
   "cell_type": "code",
   "execution_count": null,
   "metadata": {
    "collapsed": false
   },
   "outputs": [],
   "source": [
    "def get_bytestring(string):\n",
    "    return string.encode('ascii')\n",
    "\n",
    "get_bytestring('test')"
   ]
  },
  {
   "cell_type": "code",
   "execution_count": null,
   "metadata": {
    "collapsed": false
   },
   "outputs": [],
   "source": [
    "@given(stra.text())\n",
    "def test_get_bytestring(s):\n",
    "    get_bytestring(s)\n",
    "\n",
    "test_get_bytestring()"
   ]
  },
  {
   "cell_type": "markdown",
   "metadata": {},
   "source": [
    "## Minification"
   ]
  },
  {
   "cell_type": "code",
   "execution_count": null,
   "metadata": {
    "collapsed": false
   },
   "outputs": [],
   "source": [
    "def add_one_to_elements(numbers):\n",
    "    def _add_one(number):\n",
    "        if number > 81:\n",
    "            1/0\n",
    "        return number + 1\n",
    "\n",
    "    return [_add_one(number) for number in numbers]\n",
    "\n",
    "\n",
    "@given(stra.lists(stra.floats()))\n",
    "def test_add_one_to_elements(numbers):\n",
    "    #print(numbers)\n",
    "    assert add_one_to_elements(numbers) == [number + 1 for number in numbers]\n",
    "    \n",
    "test_add_one_to_elements()"
   ]
  },
  {
   "cell_type": "markdown",
   "metadata": {},
   "source": [
    "## Properties\n",
    "\n",
    "* Higher abstraction\n",
    "* Can capture the requirements\n",
    "* What properties do I want instead of examples"
   ]
  },
  {
   "cell_type": "markdown",
   "metadata": {},
   "source": [
    "### Example: Sorting"
   ]
  },
  {
   "cell_type": "code",
   "execution_count": null,
   "metadata": {
    "collapsed": false
   },
   "outputs": [],
   "source": [
    "def quicksort(numbers):\n",
    "    # TODO: there might be a bug in here\n",
    "    if numbers == []:\n",
    "        return []\n",
    "    first, *rest = numbers # python3 same as\n",
    "                           # first, rest = numbers[0], numbers[1:]\n",
    "    smaller = [element for element in rest if element < first] # should be element <= first\n",
    "    bigger = [element for element in rest if element > first]\n",
    "    return quicksort(smaller) + [first] + quicksort(bigger)\n",
    "\n",
    "quicksort([5,3,10,-100])"
   ]
  },
  {
   "cell_type": "code",
   "execution_count": null,
   "metadata": {
    "collapsed": false
   },
   "outputs": [],
   "source": [
    "from collections import Counter\n",
    "\n",
    "Counter(\"aasdlfjsld\")"
   ]
  },
  {
   "cell_type": "code",
   "execution_count": null,
   "metadata": {
    "collapsed": false
   },
   "outputs": [],
   "source": [
    "from collections import Counter\n",
    "import unittest\n",
    "\n",
    "class TestSorting(unittest.TestCase):\n",
    "\n",
    "    @given(stra.lists(stra.integers()))\n",
    "    def test_ordering(self, numbers):\n",
    "        \"\"\"Every element has to be smaller or equal than the following element.\"\"\"\n",
    "        sorted_numbers = quicksort(numbers)\n",
    "        order_correct = (\n",
    "            element <= next_element for element, next_element in zip(sorted_numbers[:-1], sorted_numbers[1:])\n",
    "        )\n",
    "        self.assertTrue(all(order_correct))\n",
    "\n",
    "    @given(stra.lists(stra.integers()))\n",
    "    def test_permutation(self, numbers):\n",
    "        \"\"\"The elements have to stay the same.\"\"\"\n",
    "        self.assertEqual(Counter(numbers), Counter(quicksort(numbers)))\n",
    "        \n",
    "    @given(stra.lists(stra.integers()))\n",
    "    def test_idempotence(self, numbers):\n",
    "        \"\"\"Result does not change on multiple application of the function.\"\"\"\n",
    "        self.assertEqual(quicksort(numbers), quicksort(quicksort(numbers)))\n",
    "\n",
    "\n",
    "run_all(TestSorting)"
   ]
  },
  {
   "cell_type": "markdown",
   "metadata": {},
   "source": [
    "### Sidenote: Complex or complicated?"
   ]
  },
  {
   "cell_type": "code",
   "execution_count": null,
   "metadata": {
    "collapsed": false
   },
   "outputs": [],
   "source": [
    "# From Problem Solving with Algorithms and Data Structures, Chapter Sorting and Searching\n",
    "# http://interactivepython.org/runestone/static/pythonds/SortSearch/TheQuickSort.html\n",
    "\n",
    "def quickSort(alist):\n",
    "   quickSortHelper(alist,0,len(alist)-1)\n",
    "\n",
    "def quickSortHelper(alist,first,last):\n",
    "   if first<last:\n",
    "\n",
    "       splitpoint = partition(alist,first,last)\n",
    "\n",
    "       quickSortHelper(alist,first,splitpoint-1)\n",
    "       quickSortHelper(alist,splitpoint+1,last)\n",
    "\n",
    "\n",
    "def partition(alist,first,last):\n",
    "   pivotvalue = alist[first]\n",
    "\n",
    "   leftmark = first+1\n",
    "   rightmark = last\n",
    "\n",
    "   done = False\n",
    "   while not done:\n",
    "\n",
    "       while leftmark <= rightmark and alist[leftmark] <= pivotvalue:\n",
    "           leftmark = leftmark + 1\n",
    "\n",
    "       while alist[rightmark] >= pivotvalue and rightmark >= leftmark:\n",
    "           rightmark = rightmark -1\n",
    "\n",
    "       if rightmark < leftmark:\n",
    "           done = True\n",
    "       else:\n",
    "           temp = alist[leftmark]\n",
    "           alist[leftmark] = alist[rightmark]\n",
    "           alist[rightmark] = temp\n",
    "\n",
    "   temp = alist[first]\n",
    "   alist[first] = alist[rightmark]\n",
    "   alist[rightmark] = temp\n",
    "\n",
    "\n",
    "   return rightmark\n",
    "\n",
    "a = [1,4,3,2,2,2,2,2,2]\n",
    "quickSort(a)\n",
    "print(a)"
   ]
  },
  {
   "cell_type": "markdown",
   "metadata": {},
   "source": [
    "## Side effects"
   ]
  },
  {
   "cell_type": "code",
   "execution_count": null,
   "metadata": {
    "collapsed": false
   },
   "outputs": [],
   "source": [
    "def test_me():\n",
    "    input_strings = []\n",
    "    while len(input_strings) < 4:\n",
    "        input_string = input() + '!'\n",
    "        input_strings.append(input_string)\n",
    "    return input_strings"
   ]
  },
  {
   "cell_type": "code",
   "execution_count": null,
   "metadata": {
    "collapsed": false
   },
   "outputs": [],
   "source": [
    "test_me()"
   ]
  },
  {
   "cell_type": "code",
   "execution_count": null,
   "metadata": {
    "collapsed": true
   },
   "outputs": [],
   "source": [
    "def test_me():\n",
    "    return test_me_pure(get_inputs())\n",
    "\n",
    "def get_inputs():\n",
    "    while True:\n",
    "        yield input()\n",
    "    \n",
    "def test_me_pure(inputs):\n",
    "    input_strings = []\n",
    "    for i in range(4):\n",
    "        input_string = next(inputs) + '!'\n",
    "        input_strings.append(input_string)\n",
    "    return input_strings\n",
    "    # Same in one line\n",
    "    # return [next(inputs) + \"!\" for _ in range(4)]\n"
   ]
  },
  {
   "cell_type": "code",
   "execution_count": null,
   "metadata": {
    "collapsed": false
   },
   "outputs": [],
   "source": [
    "test_me()"
   ]
  },
  {
   "cell_type": "code",
   "execution_count": null,
   "metadata": {
    "collapsed": false
   },
   "outputs": [],
   "source": [
    "@given(stra.streaming(stra.text()))\n",
    "def test_test_me_pure(inputs):\n",
    "    result = test_me_pure(iter(inputs))\n",
    "    \n",
    "    # length is 4\n",
    "    assert len(result) == 4\n",
    "    \n",
    "    # last character is \"!\"\n",
    "    for element in result:\n",
    "        assert element.endswith('!')\n",
    "\n",
    "    # inverse (stripping of the last character) gets back the original input\n",
    "    assert list(inputs[:4]) == [element[:-1] for element in result]\n",
    "\n",
    "test_test_me_pure()"
   ]
  },
  {
   "cell_type": "markdown",
   "metadata": {},
   "source": [
    "## Pitfall: Testing the wrong distribution"
   ]
  },
  {
   "cell_type": "code",
   "execution_count": null,
   "metadata": {
    "collapsed": false
   },
   "outputs": [],
   "source": [
    "def split(delimiter, string):\n",
    "    # TODO: there might be a bug in here\n",
    "    \n",
    "    splitted_strings = []\n",
    "    \n",
    "    while(True):\n",
    "        next_delimiter = string.find(delimiter)\n",
    "        \n",
    "        if next_delimiter >= 0:\n",
    "            splitted_strings.append(string[:next_delimiter])\n",
    "            string = string[next_delimiter+1:]\n",
    "        else:\n",
    "            if string:\n",
    "                splitted_strings.append(string)\n",
    "            break\n",
    "            \n",
    "    return splitted_strings\n",
    "\n",
    "split('@', 'fuu@bar')"
   ]
  },
  {
   "cell_type": "code",
   "execution_count": null,
   "metadata": {
    "collapsed": false
   },
   "outputs": [],
   "source": [
    "from string import ascii_lowercase\n",
    "\n",
    "class TestSplit(unittest.TestCase):\n",
    "    \n",
    "    @given(\n",
    "        delimiter=stra.text(alphabet=ascii_lowercase, min_size=1, max_size=1),\n",
    "        string=stra.text(alphabet=ascii_lowercase)\n",
    "    )\n",
    "    @settings(max_examples=10)\n",
    "    def test_split(self, delimiter, string):\n",
    "        print('Teststring: ', string)\n",
    "        print('Delimiter: ', delimiter)\n",
    "        splitted_strings = split(delimiter,string)\n",
    "        self.assertEqual(string, delimiter.join(splitted_strings))\n",
    "\n",
    "run_all(TestSplit)"
   ]
  },
  {
   "cell_type": "markdown",
   "metadata": {},
   "source": [
    "* data.draw strategy"
   ]
  },
  {
   "cell_type": "code",
   "execution_count": null,
   "metadata": {
    "collapsed": false
   },
   "outputs": [],
   "source": [
    "class TestSplit(unittest.TestCase):\n",
    "    \n",
    "    @given(stra.data())\n",
    "    @settings(max_examples=10)\n",
    "    def test_split(self, data):\n",
    "        string = data.draw(stra.text(min_size=1, alphabet=ascii_lowercase))\n",
    "        print('Teststring: ', string)\n",
    "        delimiter = data.draw(stra.sampled_from(string))\n",
    "        print('Delimiter: ', delimiter)\n",
    "        splitted_strings = split(delimiter,string)\n",
    "        self.assertEqual(string, delimiter.join(splitted_strings))\n",
    "\n",
    "run_all(TestSplit)"
   ]
  },
  {
   "cell_type": "code",
   "execution_count": null,
   "metadata": {
    "collapsed": false
   },
   "outputs": [],
   "source": [
    "splitted = split('a', 'a')\n",
    "splitted\n",
    "'a'.join(splitted)\n",
    "'a'.split('a')"
   ]
  },
  {
   "cell_type": "markdown",
   "metadata": {},
   "source": [
    "## Meta: Counter examples expose errors in your thinking\n",
    "\n",
    "**The Experiment**\n",
    "  * We monitor the bugs / lines of code of two programmers over two days\n",
    "  * If one programmer has been \"better\" on both days he should have less bugs / lines of codes in total\n",
    "  * Right?"
   ]
  },
  {
   "cell_type": "code",
   "execution_count": null,
   "metadata": {
    "collapsed": false
   },
   "outputs": [],
   "source": [
    "from hypothesis import assume\n",
    "\n",
    "def _get_ratios(bugs, lines_of_code):\n",
    "    return [\n",
    "        bugs_that_day / loc_that_day for bugs_that_day, loc_that_day in zip(bugs, lines_of_code)\n",
    "    ]\n",
    "\n",
    "# We will throw most of these examples away, could be made more efficient\n",
    "bugs_strategy = stra.lists(stra.integers(min_value=0), min_size=2, max_size=2)\n",
    "loc_strategy = stra.lists(stra.integers(min_value=1), min_size=2, max_size=2)\n",
    "\n",
    "class TestBugRatios(unittest.TestCase):\n",
    "    @given(\n",
    "        bugs_A=bugs_strategy,\n",
    "        lines_of_code_A=loc_strategy,\n",
    "        \n",
    "        bugs_B=bugs_strategy,\n",
    "        lines_of_code_B=loc_strategy,\n",
    "    )\n",
    "    def test_bug_ratio(self, bugs_A, lines_of_code_A, bugs_B, lines_of_code_B):\n",
    "        \"\"\"If the bug ratio has been less for programmer A in the individual days, the total ratio has to be also less.\"\"\"\n",
    "        \n",
    "        ratios_A = _get_ratios(bugs_A, lines_of_code_A)\n",
    "        ratios_B = _get_ratios(bugs_B, lines_of_code_B)\n",
    "        \n",
    "        both_ratios_smaller = (ratios_A[0] < ratios_B[0]) & (ratios_A[1] < ratios_B[1])\n",
    "        assume(both_ratios_smaller)\n",
    "        \n",
    "        total_ratio_A = sum(bugs_A) / sum(lines_of_code_A)\n",
    "        total_ratio_B = sum(bugs_B) / sum(lines_of_code_B)\n",
    "        self.assertLess(\n",
    "            total_ratio_A, total_ratio_B,\n",
    "            msg='even though the individual ratios are {} and {}'.format(ratios_A, ratios_B)\n",
    "        )\n",
    "        \n",
    "run_all(TestBugRatios)"
   ]
  },
  {
   "cell_type": "markdown",
   "metadata": {},
   "source": [
    "See https://en.wikipedia.org/wiki/Simpson's_paradox"
   ]
  },
  {
   "cell_type": "markdown",
   "metadata": {},
   "source": [
    "## The next level: Stateful testing\n",
    "\n",
    "Debugging is a search problem, can it be automated?"
   ]
  },
  {
   "cell_type": "code",
   "execution_count": null,
   "metadata": {
    "collapsed": false,
    "scrolled": true
   },
   "outputs": [],
   "source": [
    "import turtle\n",
    "t = turtle.Turtle(shape='turtle')\n",
    "\n",
    "for i in range(150):\n",
    "    t.forward(10)\n",
    "    t.left(0.1 * i)\n",
    "\n",
    "\n",
    "win = turtle.Screen()\n",
    "win.exitonclick()"
   ]
  },
  {
   "cell_type": "code",
   "execution_count": null,
   "metadata": {
    "collapsed": false
   },
   "outputs": [],
   "source": [
    "from hypothesis import strategies as stra\n",
    "from hypothesis.stateful import RuleBasedStateMachine, rule\n",
    "import unittest\n",
    "import turtle\n",
    "from scipy.spatial.distance import euclidean\n",
    "\n",
    "from hypothesis import settings, Verbosity\n",
    "settings.database = None\n",
    "\n",
    "def run_all(TestClass):\n",
    "    \"\"\"Runs all test methods of the class\"\"\"\n",
    "    suite = unittest.TestSuite()\n",
    "    suite = unittest.TestLoader().loadTestsFromTestCase(TestClass)\n",
    "    runner = unittest.TextTestRunner()\n",
    "    runner.run(suite)\n",
    "    \n",
    "\n",
    "class FailTurtle(turtle.Turtle):\n",
    "\n",
    "    def forward(self, distance):\n",
    "        if hasattr(self, 'fail_point'):\n",
    "            if euclidean(self.position(), self.fail_point) < 10:\n",
    "                1/0\n",
    "        super().forward(distance)\n",
    "\n",
    "\n",
    "def get_turtle(fail_point):\n",
    "    t = FailTurtle(shape='turtle')\n",
    "    t.color('black', 'green')\n",
    "    t.up()\n",
    "    t.goto(fail_point)\n",
    "    t.dot(10, 'red')\n",
    "    t.goto(0, 0)\n",
    "    t.down()\n",
    "    t.fail_point = fail_point\n",
    "    return t\n",
    "        \n",
    "class TurtleMachine(RuleBasedStateMachine):\n",
    "    \n",
    "    def __init__(self):\n",
    "        self.t = get_turtle((20, 20))\n",
    "        self.bounding_size = 80\n",
    "\n",
    "    @rule(turn=stra.integers(min_value=-90, max_value=90), forward=stra.integers(min_value=10, max_value=10,))\n",
    "    def move(self, turn, forward):\n",
    "        self.t.right(turn)\n",
    "        self.t.forward(forward)\n",
    "\n",
    "\n",
    "TestTurtle = TurtleMachine.TestCase\n",
    "TestTurtle.settings = settings(max_examples=10, stateful_step_count=35, max_shrinks=3)\n",
    "run_all(TestTurtle)\n",
    "win = turtle.Screen()\n",
    "win.exitonclick()"
   ]
  },
  {
   "cell_type": "markdown",
   "metadata": {},
   "source": [
    "## Links/Acknowledgements\n",
    "\n",
    "* http://hypothesis.readthedocs.org/\n",
    "* [John Hughes - Testing the Hard Stuff and Staying Sane](https://www.youtube.com/watch?v=zi0rHwfiX1Q)\n",
    "* [Moritz Gronbach - What's the fuzz all about? Randomized data generation for robust unit testing](https://www.youtube.com/watch?v=ABnqAnhonDk)\n",
    "* http://fsharpforfunandprofit.com/posts/property-based-testing-2/\n",
    "* https://wiki.haskell.org/Introduction_to_QuickCheck1\n",
    "* http://book.realworldhaskell.org/read/testing-and-quality-assurance.html\n",
    "* https://www.schoolofhaskell.com/user/pbv/an-introduction-to-quickcheck-testing"
   ]
  }
 ],
 "metadata": {
  "kernelspec": {
   "display_name": "Python 3",
   "language": "python",
   "name": "python3"
  },
  "language_info": {
   "codemirror_mode": {
    "name": "ipython",
    "version": 3
   },
   "file_extension": ".py",
   "mimetype": "text/x-python",
   "name": "python",
   "nbconvert_exporter": "python",
   "pygments_lexer": "ipython3",
   "version": "3.4.3"
  }
 },
 "nbformat": 4,
 "nbformat_minor": 0
}
